{
 "cells": [
  {
   "cell_type": "markdown",
   "id": "ff38aad7",
   "metadata": {},
   "source": [
    "### 1-Write a Python program that takes two numbers as user input and performs addition on them."
   ]
  },
  {
   "cell_type": "code",
   "execution_count": 7,
   "id": "91696b79",
   "metadata": {},
   "outputs": [
    {
     "name": "stdout",
     "output_type": "stream",
     "text": [
      "8\n"
     ]
    }
   ],
   "source": [
    "num1= int((input(\"Enter n1\")))\n",
    "num2= int((input(\"Enter n2\")))\n",
    "add = num1 +num2\n",
    "\n",
    "print(add)\n"
   ]
  },
  {
   "cell_type": "markdown",
   "id": "360854ff",
   "metadata": {},
   "source": [
    "### 2-Write a Python program that takes an integer as input and checks if it is even or odd. Print \"Even\" if the number is divisible by 2, otherwise print \"Odd\"."
   ]
  },
  {
   "cell_type": "code",
   "execution_count": 9,
   "id": "ee4c35fe",
   "metadata": {
    "ExecuteTime": {
     "end_time": "2023-07-23T21:35:24.351946Z",
     "start_time": "2023-07-23T21:35:23.287212Z"
    }
   },
   "outputs": [
    {
     "name": "stdout",
     "output_type": "stream",
     "text": [
      "even\n"
     ]
    }
   ],
   "source": [
    "num1= int((input(\"Enter number1\")))\n",
    "\n",
    "if num1%2 == 0:\n",
    "    print(\"even\")\n",
    "else:\n",
    "    print(\"odd\")"
   ]
  },
  {
   "cell_type": "markdown",
   "id": "6ea0354c",
   "metadata": {},
   "source": [
    "### 3-Write a Python program that prints all the even numbers from 1 to 20 using a for loop"
   ]
  },
  {
   "cell_type": "code",
   "execution_count": 6,
   "id": "df43b7f5",
   "metadata": {
    "ExecuteTime": {
     "end_time": "2023-07-23T21:36:51.373589Z",
     "start_time": "2023-07-23T21:36:51.365580Z"
    }
   },
   "outputs": [
    {
     "name": "stdout",
     "output_type": "stream",
     "text": [
      "2\n",
      "4\n",
      "6\n",
      "8\n",
      "10\n",
      "12\n",
      "14\n",
      "16\n",
      "18\n",
      "20\n"
     ]
    }
   ],
   "source": [
    "num1=0\n",
    "while i<=20:\n",
    " i=i+1\n",
    " if num1%2==0:\n",
    "   \n",
    "   print (num1)  "
   ]
  },
  {
   "cell_type": "markdown",
   "id": "2d66bab2",
   "metadata": {},
   "source": [
    "### 4-Write a Python function that takes a string as input and counts the number of vowels (a, e, i, o, u) in the string. The function should return the count"
   ]
  },
  {
   "cell_type": "code",
   "execution_count": 15,
   "id": "a37a84fd",
   "metadata": {
    "ExecuteTime": {
     "end_time": "2023-07-23T21:45:58.522044Z",
     "start_time": "2023-07-23T21:45:58.514370Z"
    }
   },
   "outputs": [
    {
     "name": "stdout",
     "output_type": "stream",
     "text": [
      "2\n"
     ]
    }
   ],
   "source": [
    "word=str(input(\"Enter word\"))\n",
    "count = 0\n",
    "vowels={'a','e','i','o','u'}\n",
    "word=word.lower()\n",
    "for char in word:\n",
    " if char in vowels:\n",
    "    count=count+1\n",
    "\n",
    "print(count)"
   ]
  },
  {
   "cell_type": "markdown",
   "id": "a9a0ea06",
   "metadata": {},
   "source": [
    "### 5-Write a Python program that creates a list of numbers from 1 to 10. Use a loop to iterate over the list and print each number of power 2."
   ]
  },
  {
   "cell_type": "code",
   "execution_count": 45,
   "id": "6fa658cf",
   "metadata": {
    "ExecuteTime": {
     "end_time": "2023-07-23T21:48:02.328880Z",
     "start_time": "2023-07-23T21:48:02.314313Z"
    }
   },
   "outputs": [
    {
     "name": "stdout",
     "output_type": "stream",
     "text": [
      "[1, 4, 9, 16, 25, 36, 49, 64, 81, 100]\n"
     ]
    }
   ],
   "source": [
    "list ={1,2,3,4,5,6,7,8,9,10}\n",
    "\n",
    "pwr_list = [n ** 2 for n in list]\n",
    "\n",
    "  \n",
    "print(pwr_list)"
   ]
  },
  {
   "cell_type": "markdown",
   "id": "430c9df9",
   "metadata": {},
   "source": [
    "### 6-Write a Python program that calculates the average grade for a student based on their scores in different subjects. The program should include the following steps:\n",
    "\n",
    "#### 1-Create variables to store the student's name, subject names, and corresponding scores. Initialize the variables with sample data.\n",
    "\n",
    "#### 2-Prompt the user to enter the student's name and assign it to the name variable.\n",
    "\n",
    "#### 3-Use a loop to prompt the user to enter the subject names and corresponding scores. Store the subject names in a list and the scores in another list.\n",
    "\n",
    "#### 4-After collecting the scores, calculate the average grade by summing up all the scores and dividing by the total number of subjects.\n",
    "\n",
    "#### 5-Check if the average grade is above a 70, print a congratulatory message. Otherwise, print an encouragement message."
   ]
  },
  {
   "cell_type": "code",
   "execution_count": 19,
   "id": "e0254271",
   "metadata": {
    "ExecuteTime": {
     "end_time": "2023-07-15T16:16:17.066909Z",
     "start_time": "2023-07-15T16:16:07.636799Z"
    }
   },
   "outputs": [
    {
     "name": "stdout",
     "output_type": "stream",
     "text": [
      "ahmed 90.0\n",
      "Congratulations\n"
     ]
    }
   ],
   "source": [
    "   \n",
    "student_name = str(input(\"Enter student's name\"))\n",
    "    \n",
    "subject_names = []\n",
    "scores = []\n",
    "num_subjects = int(input(\"Enter the number of subjects\"))\n",
    "    \n",
    "for i in range(num_subjects):\n",
    "    subject = input(\"Enter name of subject\")\n",
    "\n",
    "    score = float(input(\"Enter score for\"))\n",
    "    subject_names.append(subject)\n",
    "    scores.append(score)\n",
    "    i+=i\n",
    "    total_score = sum(scores)\n",
    "    average_grade = total_score\n",
    "    \n",
    "    print(student_name,average_grade)\n",
    "    \n",
    "    if average_grade > 70:\n",
    "        print(\"Congratulations\")\n",
    "    else:\n",
    "        print(\"you can do it next try\")\n",
    "\n",
    "\n"
   ]
  },
  {
   "cell_type": "markdown",
   "id": "ae9df360",
   "metadata": {},
   "source": [
    "### 7-Find Common Elements\n",
    "### Write a Python function that takes two lists as input and returns a new list containing the common elements present in both lists."
   ]
  },
  {
   "cell_type": "code",
   "execution_count": 17,
   "id": "d030c3c0",
   "metadata": {
    "ExecuteTime": {
     "end_time": "2023-07-23T22:08:16.794474Z",
     "start_time": "2023-07-23T22:08:16.775639Z"
    }
   },
   "outputs": [
    {
     "name": "stdout",
     "output_type": "stream",
     "text": [
      "[1, 2, 3, 4]\n"
     ]
    }
   ],
   "source": [
    "N1=int(input(\"enter the num of the elements in the first array\"))\n",
    "A1=[]\n",
    "\n",
    "for i in range (N1):\n",
    " num1=int(input(\"numbers at arr 1\"))\n",
    " A1.append(num1)\n",
    " i+=i\n",
    "\n",
    "N2=int(input(\"enter the num of the elements in the secend array\"))\n",
    "A2=[]\n",
    "\n",
    "for j in range (N2):\n",
    " num2=int(input(\"numbers at arr 2\"))\n",
    " A2.append(num2)\n",
    " j+=j\n",
    "\n",
    "common_elements=[]\n",
    "\n",
    "for item in A1 :\n",
    " if item in A2 and item not in common_elements:\n",
    "  common_elements.append(item)\n",
    "\n",
    "\n",
    "print(common_elements)"
   ]
  },
  {
   "cell_type": "markdown",
   "id": "9a2f34cb",
   "metadata": {},
   "source": [
    "### 8-Write a Python function that takes a list of numbers and an element to remove from the list. "
   ]
  },
  {
   "cell_type": "code",
   "execution_count": 29,
   "id": "78de9fe8",
   "metadata": {
    "ExecuteTime": {
     "end_time": "2023-07-23T22:21:36.514592Z",
     "start_time": "2023-07-23T22:21:36.505437Z"
    }
   },
   "outputs": [
    {
     "name": "stdout",
     "output_type": "stream",
     "text": [
      "[1, 2, 4, 5]\n"
     ]
    }
   ],
   "source": [
    "def remove_element_from_list(lst, element):\n",
    "    new_list = []\n",
    "    for x in lst:\n",
    "        if x != element:\n",
    "            new_list.append(x)\n",
    "    return new_list\n",
    "\n",
    "numbers = [1, 2, 3, 4, 3, 5, 3]\n",
    "element_to_remove = 3\n",
    "new_list = remove_element_from_list(numbers, element_to_remove)\n",
    "\n",
    "print(new_list)  \n"
   ]
  },
  {
   "cell_type": "markdown",
   "id": "f1658f3b",
   "metadata": {
    "ExecuteTime": {
     "end_time": "2023-07-23T22:18:08.230185Z",
     "start_time": "2023-07-23T22:18:08.224220Z"
    }
   },
   "source": [
    "### 9-Given 4 numbers A, B, C and D. Print the last 2 digits from their Multiplication.\n",
    "### Example :\n",
    "### the Multiplication of 4 numbers is 5 * 7 * 2 * 4 = 280 so the answer will be the last 2 digits which are 80."
   ]
  },
  {
   "cell_type": "code",
   "execution_count": 54,
   "id": "e3acbe03",
   "metadata": {
    "ExecuteTime": {
     "end_time": "2023-07-23T22:26:11.183016Z",
     "start_time": "2023-07-23T22:26:03.981069Z"
    }
   },
   "outputs": [
    {
     "name": "stdout",
     "output_type": "stream",
     "text": [
      "80\n"
     ]
    }
   ],
   "source": [
    "num1=5\n",
    "num2=7\n",
    "num3=5\n",
    "num4=4\n",
    "\n",
    "multiply = 280\n",
    "\n",
    "print(multiply%100)"
   ]
  },
  {
   "cell_type": "markdown",
   "id": "d7ab15bb",
   "metadata": {
    "ExecuteTime": {
     "end_time": "2023-07-23T22:26:14.833712Z",
     "start_time": "2023-07-23T22:26:14.819130Z"
    }
   },
   "source": [
    "### 10- Given a number X. Determine if the number is prime or not"
   ]
  },
  {
   "cell_type": "code",
   "execution_count": 47,
   "id": "59b27f0a",
   "metadata": {
    "ExecuteTime": {
     "end_time": "2023-07-23T22:35:25.933766Z",
     "start_time": "2023-07-23T22:35:24.168681Z"
    }
   },
   "outputs": [
    {
     "name": "stdout",
     "output_type": "stream",
     "text": [
      "PRIME\n"
     ]
    }
   ],
   "source": [
    "num1=int(input(\"Enter a num\"))\n",
    "\n",
    "for i in range(2,num1):\n",
    " if num1% i ==0:\n",
    "   print(\"not prime\")\n",
    "   break\n",
    "else:\n",
    "   print(\"PRIME\")\n",
    "\n",
    "\n",
    "\n",
    "\n",
    "\n",
    "\n",
    "\n",
    " \n"
   ]
  },
  {
   "cell_type": "markdown",
   "id": "e1d1dcf9",
   "metadata": {},
   "source": [
    "### 11- Given a number N and a list A of N numbers. Determine if the number X exists in array A or not and print its position (0-index)."
   ]
  },
  {
   "cell_type": "code",
   "execution_count": 6,
   "id": "2b002b0e",
   "metadata": {
    "ExecuteTime": {
     "end_time": "2023-07-23T22:53:41.474835Z",
     "start_time": "2023-07-23T22:53:41.458293Z"
    }
   },
   "outputs": [
    {
     "name": "stdout",
     "output_type": "stream",
     "text": [
      "item not found\n"
     ]
    }
   ],
   "source": [
    "num1=int(input(\"enter the num of the elements in the array\"))\n",
    "arr=[]\n",
    "\n",
    "for i in range (num1):\n",
    " num=int(input(\"numbers\"))\n",
    " arr.append(num)\n",
    " i+=i\n",
    "\n",
    "for i in arr:\n",
    " x=int(input(\"enter x item to found\"))\n",
    " if x in arr:\n",
    "  print(\"item exist\")\n",
    "  break\n",
    " else:\n",
    "  print(\"item not found\")\n",
    "  break\n",
    " "
   ]
  },
  {
   "cell_type": "markdown",
   "id": "f2ec854b",
   "metadata": {},
   "source": [
    "### 12- Given a number N and a list A of N numbers. Determine if the array is lucky or not.\n",
    "\n",
    "#### Note: the array is lucky if the frequency (number of occurrence) of the minimum element is odd."
   ]
  },
  {
   "cell_type": "code",
   "execution_count": 15,
   "id": "0c4f7f4b",
   "metadata": {
    "ExecuteTime": {
     "end_time": "2023-07-23T23:02:02.490192Z",
     "start_time": "2023-07-23T23:02:02.476874Z"
    }
   },
   "outputs": [
    {
     "name": "stdout",
     "output_type": "stream",
     "text": [
      "this array is lucky\n"
     ]
    }
   ],
   "source": [
    "num1=int(input(\"enter the num of the elements in the array\"))\n",
    "arr=[]\n",
    "\n",
    "for i in range (num1):\n",
    " N=int(input(\"numbers\"))\n",
    " arr.append(N)\n",
    " i+=i\n",
    "lucky=False\n",
    "for X in arr:\n",
    " if X % 2 != 0:\n",
    "  lucky=True\n",
    "  break\n",
    "  \n",
    "\n",
    "\n",
    "if lucky:\n",
    " print(\"this array is lucky\")\n",
    "else:\n",
    "  print(\"not lucky\")\n"
   ]
  },
  {
   "cell_type": "markdown",
   "id": "e1ce1ae5",
   "metadata": {},
   "source": [
    "### 13-Given a number N and a list A of N numbers. Print the array after doing the following operations:\n",
    "\n",
    "#### Find minimum number in these numbers.\n",
    "#### Find maximum number in these numbers.\n",
    "##### Swap minimum number with maximum number."
   ]
  },
  {
   "cell_type": "code",
   "execution_count": 15,
   "id": "e0d6e639",
   "metadata": {
    "ExecuteTime": {
     "end_time": "2023-07-23T23:10:04.293733Z",
     "start_time": "2023-07-23T23:10:04.280256Z"
    }
   },
   "outputs": [
    {
     "name": "stdout",
     "output_type": "stream",
     "text": [
      "9\n",
      "7\n"
     ]
    }
   ],
   "source": [
    "N=int(input(\"enter the num of the elements in the array\"))\n",
    "A=[]\n",
    "\n",
    "max_num=A[0]\n",
    "for i in range (N):\n",
    " num=int(input(\"numbers\"))\n",
    " A.append(num)\n",
    " i+=i\n",
    "\n",
    "\n",
    "\n",
    "for i in A:\n",
    " \n",
    " if num>max_num:\n",
    "  max_num = num\n",
    "   \n",
    "   \n",
    "   \n",
    "min_num=A[0]\n",
    "\n",
    "for i in  A:\n",
    " \n",
    " if num<min_num:\n",
    "  min_num = num\n",
    "\n",
    "\n",
    "\n",
    "\n",
    "print(max_num)\n",
    "print(min_num)\n",
    "\n",
    "\n",
    "\n"
   ]
  },
  {
   "cell_type": "markdown",
   "id": "9eb8e9c5",
   "metadata": {
    "ExecuteTime": {
     "end_time": "2023-07-23T23:10:06.436833Z",
     "start_time": "2023-07-23T23:10:06.422086Z"
    }
   },
   "source": [
    "### 14-Given a number N and an array A of N numbers. Print the lowest number and its position.\n",
    "\n",
    "### Note: if there are more than one answer print first one's position."
   ]
  },
  {
   "cell_type": "code",
   "execution_count": 36,
   "id": "018e01c8",
   "metadata": {
    "ExecuteTime": {
     "end_time": "2023-07-23T23:20:38.498527Z",
     "start_time": "2023-07-23T23:20:38.490451Z"
    }
   },
   "outputs": [
    {
     "name": "stdout",
     "output_type": "stream",
     "text": [
      "The lowest number is 7 at index 2\n"
     ]
    }
   ],
   "source": [
    "num=int(input(\"Size of array\"))\n",
    "arr=[]\n",
    "\n",
    "for i in range(num):\n",
    "    N = int(input(\"number\"))\n",
    "    arr.append(N)\n",
    "    i+=i\n",
    "\n",
    "lowest  = arr[0]\n",
    "\n",
    "for num_index, N in enumerate(arr):\n",
    "    if N< lowest:\n",
    "        lowest=N\n",
    "        \n",
    "        \n",
    "print(f\"The lowest number is {lowest} at index {arr.index(lowest)}\")\n",
    "        \n",
    "\n",
    " "
   ]
  },
  {
   "cell_type": "markdown",
   "id": "f35d3427",
   "metadata": {
    "ExecuteTime": {
     "end_time": "2023-07-23T23:20:55.880128Z",
     "start_time": "2023-07-23T23:20:55.861804Z"
    }
   },
   "source": [
    "### 15-Given a number N and an array A of N numbers. Print the numbers after sorting them"
   ]
  },
  {
   "cell_type": "code",
   "execution_count": 21,
   "id": "a6e0edd4",
   "metadata": {
    "ExecuteTime": {
     "end_time": "2023-07-23T23:46:13.340484Z",
     "start_time": "2023-07-23T23:46:13.324468Z"
    }
   },
   "outputs": [
    {
     "name": "stdout",
     "output_type": "stream",
     "text": [
      "[2, 5, 7, 8, 11, 45, 55, 66, 87, 99]\n"
     ]
    }
   ],
   "source": [
    "N=int(input(\"ARRAY NUM\"))\n",
    "A=[]\n",
    "\n",
    "for i in range(N):\n",
    "    NUM=int(input(\"numbers\"))\n",
    "    A.append(NUM)\n",
    "\n",
    "A.sort()\n",
    "print(A)   "
   ]
  },
  {
   "cell_type": "markdown",
   "id": "a172f354",
   "metadata": {
    "ExecuteTime": {
     "end_time": "2023-07-23T23:46:15.127981Z",
     "start_time": "2023-07-23T23:46:15.108766Z"
    }
   },
   "source": [
    "### 16- Write a Python program to remove spaces from a given string"
   ]
  },
  {
   "cell_type": "code",
   "execution_count": 23,
   "id": "36d3569d",
   "metadata": {
    "ExecuteTime": {
     "end_time": "2023-07-23T23:50:06.443640Z",
     "start_time": "2023-07-23T23:50:01.592919Z"
    }
   },
   "outputs": [
    {
     "name": "stdout",
     "output_type": "stream",
     "text": [
      "ahmed\n"
     ]
    }
   ],
   "source": [
    "word=str(input(\"enter the word\"))\n",
    "word=word.replace(\" \",\"\")\n",
    "\n",
    "print(word)"
   ]
  },
  {
   "cell_type": "markdown",
   "id": "a5470d49",
   "metadata": {},
   "source": [
    "### 17-write a Python program to swap first and last element of any list."
   ]
  },
  {
   "cell_type": "code",
   "execution_count": 11,
   "id": "9d73887b",
   "metadata": {
    "ExecuteTime": {
     "end_time": "2023-07-23T23:50:59.283429Z",
     "start_time": "2023-07-23T23:50:59.272096Z"
    }
   },
   "outputs": [
    {
     "name": "stdout",
     "output_type": "stream",
     "text": [
      "[5, 2, 2, 4, 1]\n"
     ]
    }
   ],
   "source": [
    "x = int(input(\"size of arr\"))\n",
    "n1=[]\n",
    "\n",
    "\n",
    "for i in range (x):\n",
    "  item = int(input(\"Enter item\"))\n",
    "  n1.append(item)\n",
    "i=0\n",
    "j=len(n1)-1\n",
    "\n",
    "n1[i],n1[j]=n1[j],n1[i]\n",
    "print(n1)"
   ]
  }
 ],
 "metadata": {
  "kernelspec": {
   "display_name": "Python 3 (ipykernel)",
   "language": "python",
   "name": "python3"
  },
  "language_info": {
   "codemirror_mode": {
    "name": "ipython",
    "version": 3
   },
   "file_extension": ".py",
   "mimetype": "text/x-python",
   "name": "python",
   "nbconvert_exporter": "python",
   "pygments_lexer": "ipython3",
   "version": "3.12.4"
  }
 },
 "nbformat": 4,
 "nbformat_minor": 5
}
