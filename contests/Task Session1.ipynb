{
 "cells": [
  {
   "cell_type": "markdown",
   "id": "2e6129a7",
   "metadata": {},
   "source": [
    "## WAP to enter a number from user and print its absolute value.*"
   ]
  },
  {
   "cell_type": "code",
   "execution_count": null,
   "id": "1a2b81cb",
   "metadata": {},
   "outputs": [
    {
     "name": "stdout",
     "output_type": "stream",
     "text": [
      "6\n"
     ]
    },
    {
     "ename": "",
     "evalue": "",
     "output_type": "error",
     "traceback": [
      "\u001b[1;31mnotebook controller is DISPOSED. \n",
      "\u001b[1;31mView Jupyter <a href='command:jupyter.viewOutput'>log</a> for further details."
     ]
    }
   ],
   "source": [
    "n = int(input(\"number\"))\n",
    "print(abs(n))"
   ]
  },
  {
   "cell_type": "markdown",
   "id": "6e4c5e8e",
   "metadata": {},
   "source": [
    "##  WAP to enter a year from user and check if it is leap year of not."
   ]
  },
  {
   "cell_type": "code",
   "execution_count": 24,
   "id": "98f7d9fc",
   "metadata": {},
   "outputs": [
    {
     "name": "stdout",
     "output_type": "stream",
     "text": [
      "normal leap\n"
     ]
    }
   ],
   "source": [
    "year=int(input(\"year\"))\n",
    "if year % 4 == 0:\n",
    " print (\"leap year\")\n",
    "else: \n",
    " print(\"normal leap\")"
   ]
  },
  {
   "cell_type": "markdown",
   "id": "30b689c8",
   "metadata": {},
   "source": [
    "## WAP to enter the age of 3 person and print oldest and yougest among them."
   ]
  },
  {
   "cell_type": "code",
   "execution_count": 27,
   "id": "c166f026",
   "metadata": {},
   "outputs": [
    {
     "name": "stdout",
     "output_type": "stream",
     "text": [
      "tha largest 80\n",
      "the smallest 5\n"
     ]
    }
   ],
   "source": [
    "x1 = int(input(\"x1\"))\n",
    "x2 = int(input(\"x2\"))\n",
    "x3 = int(input(\"x3\"))\n",
    "\n",
    "a=max(x1, x2, x3)\n",
    "b=min(x1,x2,x3)\n",
    "print(\"tha largest\",a)\n",
    "print(\"the smallest\",b)"
   ]
  },
  {
   "cell_type": "markdown",
   "id": "b7a31e5f",
   "metadata": {},
   "source": [
    "## Write a program that asks the user to enter a series of numbers. The program should ask for numbers until the user enters a negative number. Once the user enters a negative number, the program should stop and print the sum of all the positive numbers entered\n",
    "\n",
    "## Example\n",
    "\n",
    "\n",
    "### Enter a number: 5\n",
    "### Enter a number: 8\n",
    "### Enter a number: 12\n",
    "### Enter a number: -2\n",
    "### The sum of the positive numbers is 25. "
   ]
  },
  {
   "cell_type": "code",
   "execution_count": 3,
   "id": "daf372d4",
   "metadata": {},
   "outputs": [
    {
     "name": "stdout",
     "output_type": "stream",
     "text": [
      "-2\n"
     ]
    }
   ],
   "source": [
    "def main():\n",
    "    sum = 0\n",
    "    \n",
    "    while True:\n",
    "        number = float(input(\"Enter a number: \"))\n",
    "        \n",
    "        if number < 0:\n",
    "            break\n",
    "        \n",
    "        sum += number\n",
    "    \n",
    "    print(\"The sum of the positive numbers is\" ,sum)\n",
    "\n",
    "\n",
    "main()\n"
   ]
  },
  {
   "cell_type": "markdown",
   "id": "7e526aaa",
   "metadata": {},
   "source": [
    "## Write a program that asks the user to enter their name and age. The program should check if the user's age is greater than or equal to 18. If it is, the program should print a message saying they are eligible to vote. Otherwise, the program should print a message saying they are not eligible to vote due to being underage.\n"
   ]
  },
  {
   "cell_type": "code",
   "execution_count": 4,
   "id": "96c50bdf",
   "metadata": {},
   "outputs": [
    {
     "name": "stdout",
     "output_type": "stream",
     "text": [
      "eligible\n"
     ]
    }
   ],
   "source": [
    "user_name = str(input(\"user name :\"))\n",
    "age       = int(input( \"age :\"))\n",
    "if age >= 18:\n",
    "    print(\"eligible\")\n",
    "else:\n",
    "    print(\"not eligible\")\n"
   ]
  }
 ],
 "metadata": {
  "kernelspec": {
   "display_name": "Python 3 (ipykernel)",
   "language": "python",
   "name": "python3"
  },
  "language_info": {
   "codemirror_mode": {
    "name": "ipython",
    "version": 3
   },
   "file_extension": ".py",
   "mimetype": "text/x-python",
   "name": "python",
   "nbconvert_exporter": "python",
   "pygments_lexer": "ipython3",
   "version": "3.12.3"
  }
 },
 "nbformat": 4,
 "nbformat_minor": 5
}
