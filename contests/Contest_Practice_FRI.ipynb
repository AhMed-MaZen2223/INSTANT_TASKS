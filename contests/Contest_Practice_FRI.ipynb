{
  "cells": [
    {
      "cell_type": "markdown",
      "metadata": {
        "id": "zNcGS019Rvgg"
      },
      "source": [
        "# Interview Question\n",
        "GIVEN to strings\n",
        "s1 = x\n",
        "\n",
        "s2 = y\n",
        "\n",
        "create this patteren :\n",
        "\n",
        "```\n",
        "x y xy yxy xyyxy yxyxyyxy  xyyxyyxyxyyxy ....\n",
        "```"
      ]
    },
    {
      "cell_type": "code",
      "execution_count": 77,
      "metadata": {
        "id": "ZZuzvFkEMs0v"
      },
      "outputs": [
        {
          "name": "stdout",
          "output_type": "stream",
          "text": [
            "x y xy yxy xyyxy yxyxyyxy "
          ]
        }
      ],
      "source": [
        "s1=\"x\"\n",
        "s2=\"y\"\n",
        "n = int(input(\"Enter length of the  string: \"))\n",
        "\n",
        "\n",
        "for i in range(n):\n",
        "    if len(s1) <= n:\n",
        "        print(s1, end=\" \")\n",
        "    if len(s2) <= n:\n",
        "        print(s2, end=\" \")\n",
        "    s1 += s2\n",
        "    s2 += s1\n",
        "    \n",
        "    \n",
        "\n",
        "\n",
        "\n",
        "\n",
        "\n",
        "\n",
        "\n",
        "\n"
      ]
    },
    {
      "cell_type": "markdown",
      "metadata": {
        "id": "XaXq15kKSReE"
      },
      "source": [
        "# Interview Question\n",
        "\n",
        "Calculate the sum and average of the digits present in a string\n",
        "Given a string s1, write a program to return the sum and average of the digits that appear in the string, ignoring all other characters.\n",
        "\n",
        "\n",
        "Given:y\n",
        "```\n",
        "str1 = \"PYnative29@#8496\"\n",
        "```\n",
        "Expected Outcome:\n",
        "```\n",
        "Sum is: 38 Average is  6.333333333333333\n",
        "```"
      ]
    },
    {
      "cell_type": "code",
      "execution_count": 79,
      "metadata": {
        "id": "NpZ_s7XuMxrd"
      },
      "outputs": [
        {
          "name": "stdout",
          "output_type": "stream",
          "text": [
            "38\n",
            "6.333333333333333\n"
          ]
        }
      ],
      "source": [
        "str1 = \"PYnative29@#8496\"\n",
        "sum1 =0\n",
        "count=0\n",
        "number=\"0123456789\"\n",
        "\n",
        "for i in str1:\n",
        " if i in number:\n",
        "  \n",
        "  sum1+= int(i)\n",
        "  count+=1\n",
        "\n",
        "\n",
        "   \n",
        "\n",
        "\n",
        "\n",
        "print(sum1)\n",
        "print(sum1/count)\n",
        "\n",
        "\n",
        "\n"
      ]
    },
    {
      "cell_type": "markdown",
      "metadata": {
        "id": "qi1VBWfuD-c0"
      },
      "source": [
        "## You are given an array containing n distinct numbers taken from 0, 1, 2, ..., n. However, one number is missing from the array. Your task is to find the missing number."
      ]
    },
    {
      "cell_type": "code",
      "execution_count": 80,
      "metadata": {
        "id": "m9NOxxYEMzKJ"
      },
      "outputs": [
        {
          "name": "stdout",
          "output_type": "stream",
          "text": [
            "9\n",
            "[1, 2, 3, 4, 5, 6, 7, 8, 9, 10]\n"
          ]
        }
      ],
      "source": [
        "list=[1,2,3,4,5,6,7,8,10]\n",
        "\n",
        "for i in range(1,11):\n",
        "\n",
        "\n",
        "    if i not in list :\n",
        "        list.append(i)\n",
        "        print(i)\n",
        "\n",
        "print(sorted(list))  \n"
      ]
    },
    {
      "cell_type": "markdown",
      "metadata": {
        "id": "lfSltycPQmir"
      },
      "source": [
        "## Create a class called Person with attributes name, gender and age. Add methods to set and get the attributes then create a class student that inherite from the class person with attributes level, gpa, department and ID Add methods to set and get the attributes"
      ]
    },
    {
      "cell_type": "code",
      "execution_count": 2,
      "metadata": {
        "id": "DccECuC6Q0E_"
      },
      "outputs": [
        {
          "name": "stdout",
          "output_type": "stream",
          "text": [
            "Name: Alice\n",
            "Gender: Female\n",
            "Age: 20\n",
            "ID: 12345\n",
            "Level: Sophomore\n",
            "GPA: 3.8\n",
            "Department: Computer Science\n",
            "Name: Bob\n",
            "Gender: Male\n",
            "Age: 21\n",
            "ID: 23456\n",
            "Level: Junior\n",
            "GPA: 3.6\n",
            "Department: Electrical Engineering\n",
            "Number of students created: 2\n"
          ]
        }
      ],
      "source": [
        "class Person:\n",
        "    def __init__(self, name, gender, age):\n",
        "        self.name = name\n",
        "        self.gender = gender\n",
        "        self.age = age\n",
        "\n",
        "class Student(Person):\n",
        "    # Static variable to count the number of Student objects created\n",
        "    student_count = 0\n",
        "\n",
        "    def __init__(self, name, gender, age, level, gpa, department, ID):\n",
        "        # Call the parent class (Person) constructor\n",
        "        super().__init__(name, gender, age)\n",
        "        \n",
        "        # Instance attributes specific to Student\n",
        "        self.level = level\n",
        "        self.gpa = gpa\n",
        "        self.department = department\n",
        "        self.ID = ID\n",
        "\n",
        "        # Increment the student_count each time a Student object is created\n",
        "        Student.student_count += 1\n",
        "\n",
        "    def set_id(self, ID):\n",
        "        self.ID = ID\n",
        "\n",
        "    def set_level(self, level):\n",
        "        self.level = level\n",
        "\n",
        "    def set_gpa(self, gpa):\n",
        "        self.gpa = gpa\n",
        "\n",
        "    def set_department(self, department):\n",
        "        self.department = department\n",
        "\n",
        "    def get_department(self):\n",
        "        return self.department\n",
        "\n",
        "    def get_level(self):\n",
        "        return self.level\n",
        "\n",
        "    def get_gpa(self):\n",
        "        return self.gpa\n",
        "\n",
        "    def get_ID(self):\n",
        "        return self.ID\n",
        "\n",
        "    def show_details(self):\n",
        "        # Display details of the student\n",
        "        print(f\"Name: {self.name}\")\n",
        "        print(f\"Gender: {self.gender}\")\n",
        "        print(f\"Age: {self.age}\")\n",
        "        print(f\"ID: {self.ID}\")\n",
        "        print(f\"Level: {self.level}\")\n",
        "        print(f\"GPA: {self.gpa}\")\n",
        "        print(f\"Department: {self.department}\")\n",
        "\n",
        "# Example usage\n",
        "student1 = Student(\"Alice\", \"Female\", 20, \"Sophomore\", 3.8, \"Computer Science\", 12345)\n",
        "student2 = Student(\"Bob\", \"Male\", 21, \"Junior\", 3.6, \"Electrical Engineering\", 23456)\n",
        "\n",
        "# Show details of the students\n",
        "student1.show_details()\n",
        "student2.show_details()\n",
        "\n",
        "# Print the number of Student objects created\n",
        "print(f\"Number of students created: {Student.student_count}\")\n"
      ]
    },
    {
      "cell_type": "markdown",
      "metadata": {
        "id": "oXA0xOumQ1SW"
      },
      "source": [
        "## Create a base class Shape with a method to calculate the area. Create two subclasses, Circle and Rectangle, that inherit from Shape and implement the area calculation methods. Create instances of each subclass and calculate their areas."
      ]
    },
    {
      "cell_type": "code",
      "execution_count": 3,
      "metadata": {
        "id": "xrGJnihRQ5v4"
      },
      "outputs": [
        {
          "name": "stdout",
          "output_type": "stream",
          "text": [
            "Area of the circle: 78.53981633974483\n",
            "Area of the rectangle: 24\n"
          ]
        }
      ],
      "source": [
        "import math\n",
        "\n",
        "# Base class\n",
        "class Shape:\n",
        "    def area(self):\n",
        "        pass  # Method to be implemented by subclasses\n",
        "\n",
        "# Subclass for Circle\n",
        "class Circle(Shape):\n",
        "    def __init__(self, radius):\n",
        "        self.radius = radius\n",
        "\n",
        "    def area(self):\n",
        "        return math.pi * self.radius ** 2\n",
        "\n",
        "# Subclass for Rectangle\n",
        "class Rectangle(Shape):\n",
        "    def __init__(self, width, height):\n",
        "        self.width = width\n",
        "        self.height = height\n",
        "\n",
        "    def area(self):\n",
        "        return self.width * self.height\n",
        "\n",
        "# Create instances of Circle and Rectangle\n",
        "circle = Circle(5)        # Circle with radius 5\n",
        "rectangle = Rectangle(4, 6)  # Rectangle with width 4 and height 6\n",
        "\n",
        "# Calculate and print the areas\n",
        "print(f\"Area of the circle: {circle.area()}\")\n",
        "print(f\"Area of the rectangle: {rectangle.area()}\")\n"
      ]
    },
    {
      "cell_type": "markdown",
      "metadata": {
        "id": "t4yOw0iR__2X"
      },
      "source": [
        "## design a Python class called Student that represents students. Each student has a name and an age. Your goal is to implement this class and keep track of the total number of students.\n",
        "\n",
        "The Student class should have the following features:\n",
        "\n",
        "An init method that initializes a student's name and age when a new student object is created.\n",
        "\n",
        "A introduce method that allows a student to introduce themselves by printing their name and age.\n",
        "\n",
        "A get_total_students method that returns the current count of total students using the total_students static variable."
      ]
    },
    {
      "cell_type": "code",
      "execution_count": 4,
      "metadata": {
        "id": "znVO48qevAcv"
      },
      "outputs": [
        {
          "name": "stdout",
          "output_type": "stream",
          "text": [
            "Hi, my name is Alice and I am 20 years old.\n",
            "Hi, my name is Bob and I am 22 years old.\n",
            "Total number of students: 2\n"
          ]
        }
      ],
      "source": [
        "class Student:\n",
        "    # Static variable to keep track of the total number of students\n",
        "    total_students = 0\n",
        "\n",
        "    def __init__(self, name, age):\n",
        "        self.name = name\n",
        "        self.age = age\n",
        "        \n",
        "        # Increment the student count each time a new Student object is created\n",
        "        Student.total_students += 1\n",
        "\n",
        "    def introduce(self):\n",
        "        # Method for the student to introduce themselves\n",
        "        print(f\"Hi, my name is {self.name} and I am {self.age} years old.\")\n",
        "\n",
        "    @staticmethod\n",
        "    def get_total_students():\n",
        "        # Static method to return the current count of total students\n",
        "        return Student.total_students\n",
        "\n",
        "# Example usage\n",
        "student1 = Student(\"Alice\", 20)\n",
        "student2 = Student(\"Bob\", 22)\n",
        "\n",
        "# Students introduce themselves\n",
        "student1.introduce()\n",
        "student2.introduce()\n",
        "\n",
        "# Get the total number of students\n",
        "print(f\"Total number of students: {Student.get_total_students()}\")\n"
      ]
    }
  ],
  "metadata": {
    "colab": {
      "provenance": []
    },
    "kernelspec": {
      "display_name": "Python 3",
      "name": "python3"
    },
    "language_info": {
      "codemirror_mode": {
        "name": "ipython",
        "version": 3
      },
      "file_extension": ".py",
      "mimetype": "text/x-python",
      "name": "python",
      "nbconvert_exporter": "python",
      "pygments_lexer": "ipython3",
      "version": "3.12.4"
    }
  },
  "nbformat": 4,
  "nbformat_minor": 0
}
